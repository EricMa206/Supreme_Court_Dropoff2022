{
 "cells": [
  {
   "cell_type": "code",
   "execution_count": 1,
   "metadata": {},
   "outputs": [],
   "source": [
    "import numpy as np\n",
    "import pandas as pd\n",
    "import re\n",
    "import requests\n",
    "from bs4 import BeautifulSoup"
   ]
  },
  {
   "cell_type": "code",
   "execution_count": 7,
   "metadata": {},
   "outputs": [
    {
     "name": "stderr",
     "output_type": "stream",
     "text": [
      "/Users/ericma/anaconda3/envs/learn-env/lib/python3.6/site-packages/urllib3/connectionpool.py:857: InsecureRequestWarning: Unverified HTTPS request is being made. Adding certificate verification is strongly advised. See: https://urllib3.readthedocs.io/en/latest/advanced-usage.html#ssl-warnings\n",
      "  InsecureRequestWarning)\n"
     ]
    }
   ],
   "source": [
    "try:\n",
    "    r = requests.get('https://www.audaxgroup.com/leadership/', verify=False)\n",
    "except requests.exceptions.RequestException as e: \n",
    "    raise SystemExit(e)"
   ]
  },
  {
   "cell_type": "code",
   "execution_count": 6,
   "metadata": {},
   "outputs": [
    {
     "ename": "SyntaxError",
     "evalue": "invalid syntax (<ipython-input-6-36596684069b>, line 1)",
     "output_type": "error",
     "traceback": [
      "\u001b[0;36m  File \u001b[0;32m\"<ipython-input-6-36596684069b>\"\u001b[0;36m, line \u001b[0;32m1\u001b[0m\n\u001b[0;31m    curl --verbose https://www.audaxgroup.com/leadership/\u001b[0m\n\u001b[0m                       ^\u001b[0m\n\u001b[0;31mSyntaxError\u001b[0m\u001b[0;31m:\u001b[0m invalid syntax\n"
     ]
    }
   ],
   "source": [
    "curl --verbose https://www.audaxgroup.com/leadership/"
   ]
  },
  {
   "cell_type": "code",
   "execution_count": 8,
   "metadata": {},
   "outputs": [
    {
     "data": {
      "text/plain": [
       "<bound method Tag.prettify of <!DOCTYPE html>\n",
       "<html class=\"group team_members group_team\" data-ios_thirteen=\"false\" data-session=\"false\" lang=\"en\"><head><!--This handcrafted digital experience brought to you by FINE: wearefine.com.--><script>(function(w,d,s,l,i){w[l]=w[l]||[];w[l].push({'gtm.start' :\n",
       "new Date().getTime(),event:'gtm.js'});var f=d.getElementsByTagName(s)[0],\n",
       "j=d.createElement(s),dl=l!='dataLayer'?'&l='+l:'';j.async=true;j.src=\n",
       "'https://www.googletagmanager.com/gtm.js?id='+i+dl;f.parentNode.insertBefore(j,f);\n",
       "})(window,document,'script','dataLayer','GTM-K2FBBR9');</script><meta charset=\"utf-8\"/><meta content=\"text/html; charset=utf-8\" http-equiv=\"Content-Type\"/><meta content=\"IE=edgechrome=1\" http-equiv=\"X-UA-Compatible\"/><meta content=\"width=device-width, initial-scale=1.0, maximum-scale=10.0, user-scalable=1\" name=\"viewport\"/><link href=\"/images/apple-icon-57x57.png\" rel=\"apple-touch-icon\" sizes=\"57x57\"/><link href=\"/images/apple-icon-60x60.png\" rel=\"apple-touch-icon\" sizes=\"60x60\"/><link href=\"/images/apple-icon-72x72.png\" rel=\"apple-touch-icon\" sizes=\"72x72\"/><link href=\"/images/apple-icon-76x76.png\" rel=\"apple-touch-icon\" sizes=\"76x76\"/><link href=\"/images/apple-icon-114x114.png\" rel=\"apple-touch-icon\" sizes=\"114x114\"/><link href=\"/images/apple-icon-120x120.png\" rel=\"apple-touch-icon\" sizes=\"120x120\"/><link href=\"/images/apple-icon-144x144.png\" rel=\"apple-touch-icon\" sizes=\"144x144\"/><link href=\"/images/apple-icon-152x152.png\" rel=\"apple-touch-icon\" sizes=\"152x152\"/><link href=\"/images/apple-icon-180x180.png\" rel=\"apple-touch-icon\" sizes=\"180x180\"/><link href=\"/images/android-icon-192x192.png\" rel=\"icon\" sizes=\"192x192\" type=\"image/png\"/><link href=\"/images/favicon-32x32.png\" rel=\"icon\" sizes=\"32x32\" type=\"image/png\"/><link href=\"/images/favicon-96x96.png\" rel=\"icon\" sizes=\"96x96\" type=\"image/png\"/><link href=\"/images/favicon-16x16.png\" rel=\"icon\" sizes=\"16x16\" type=\"image/png\"/><meta content=\"#ffffff\" name=\"msapplication-TileColor\"/><meta content=\"/ms-icon-144x144.png\" name=\"msapplication-TileImage\"/><meta content=\"#ffffff\" name=\"theme-color\"/><meta content=\"https://www.audaxgroup.com/leadership/\" property=\"og:url\"/><meta content=\"website\" property=\"og:type\"/><meta content=\"en_US\" property=\"og:locale\"/><meta content=\"https://www.audaxgroup.com/Audax_OG_Group.jpg\" property=\"og:image\"/><meta content=\"A leading investor in middle market companies, Audax Group is a results-oriented business and financial partner with a successful history of building long-term value for our companies.\" property=\"og:description\"/><meta content=\"Audax Group | Team\" property=\"og:title\"/><title>Audax Group | Team</title><link href=\"https://use.typekit.net/hlq2pre.css\" rel=\"stylesheet\"/><link href=\"/assets/application-241df7ef0d44956efefb64ce4b300a9aef4e4c64a97bcb95f45c73a2ccf52ef3.css\" media=\"all\" rel=\"stylesheet\"/><meta content=\"authenticity_token\" name=\"csrf-param\"/>\n",
       "<meta content=\"L1BXBfaqlWQ0CBaXnBvjQITTLm5wTAsY5Hd2KhJET4jVnJk32u3ApaTbgSWOSRQXhvodJOIm/nqsWsZIXMJplg==\" name=\"csrf-token\"/></head><body class=\"group team_members group_team\" data-controller=\"team-members\" data-force-encoding=\"✓\"><!--Google Tag Manager (noscript)--><noscript><iframe height=\"0\" src=\"https://www.googletagmanager.com/ns.html?id=GTM-K2FBBR9\" style=\"display:none;visibility:hidden\" width=\"0\"></iframe></noscript><!--End Google Tag Manager (noscript)--><div class=\"header\"><div class=\"container\"><div class=\"header-wrapper\"><a class=\"u--normalize-link\" href=\"/\"><div class=\"logo\"><svg fill=\"none\" height=\"36\" viewbox=\"0 0 199 36\" width=\"199\" xmlns=\"http://www.w3.org/2000/svg\">\n",
       "<path d=\"M1.03142 26.2602L20.1326 25.3676L19.4979 26.4586L6.86294 4.58044H8.15223L0.119011 16.7195L0 16.6402L6.86294 3.82671L7.47783 2.67627L8.15223 3.82671L20.7673 25.7247L21.4021 26.8553L20.1525 26.8156L1.03142 26.4387V26.2602Z\" fill=\"#C8B37B\"></path>\n",
       "<path class=\"logo-text\" d=\"M42.3798 7.04596H40.1247L31.6178 27H34.3583L36.9274 20.9767H45.3487L48.0321 27H51.2293L42.3798 7.04596ZM37.9266 18.693L40.1532 13.2406C40.5814 12.2129 40.8669 11.3279 40.9811 10.8427C41.0952 11.2994 41.4663 12.2414 41.8945 13.2406L44.2925 18.693H37.9266ZM65.0688 27C65.0688 27 64.8404 26.1436 64.8404 24.0312V13.3833H61.9857V22.7751C61.2721 24.0597 59.9018 25.0874 58.5031 25.0874C56.7617 25.0874 56.0195 23.9455 56.0195 22.1471V13.3833H51.9088V13.6688C52.965 14.0113 53.1934 14.9534 53.1934 16.4378V22.1471C53.1934 26.1721 55.3629 27.3426 57.6467 27.3426C59.388 27.3426 61.0722 26.6289 62.1285 25.2016L62.1856 27H65.0688ZM81.099 27C81.099 27 80.8421 26.1436 80.8421 24.0597V7.04596H76.7314V7.33143C77.7876 7.67398 77.9874 8.61602 77.9874 10.1004V14.0399C77.1881 13.3833 76.0748 13.0407 74.8473 13.0407H74.7331C70.9364 13.0407 67.7678 15.8954 67.7678 20.2059C67.7678 24.6021 70.2513 27.3426 73.9624 27.3426C74.048 27.3426 74.1336 27.3426 74.2193 27.3426C75.6181 27.2855 77.3308 26.6003 78.1016 25.4299L78.2158 27H81.099ZM77.9874 23.2033C77.3879 24.3452 76.1319 25.0874 74.7902 25.0874H74.676C72.3352 25.0874 70.7366 23.2319 70.7366 20.2059C70.7366 17.2656 72.5065 15.3245 74.9329 15.3245C76.1319 15.3245 77.2167 15.7241 77.9874 16.5234V23.2033ZM96.1792 25.0874C95.8366 25.2872 95.5511 25.3443 95.2942 25.3443C95.18 25.3443 95.0944 25.3443 95.0373 25.3158C94.6947 25.2587 94.4664 24.9446 94.4664 24.4308V17.5511C94.4664 14.4681 92.3825 13.0693 89.642 13.0693C88.0434 13.0693 86.1308 13.6973 85.1031 14.7535V17.2085C86.302 15.8668 87.7008 15.3816 89.1567 15.3816C90.7839 15.3816 91.6117 16.3236 91.6117 18.0078V18.6644C90.6411 18.8071 89.2709 19.1212 88.3003 19.4352C86.5019 20.0346 84.3894 21.205 84.3894 23.7742V23.9455C84.3894 26.0009 85.9595 27.2855 87.9292 27.2855C89.1567 27.2855 90.7553 26.8287 91.7259 25.744C91.8972 26.8002 92.6394 27.2855 93.8098 27.2855C94.6091 27.2855 95.4369 27.1427 96.1792 26.7431V25.0874ZM91.6117 24.1168C91.0122 24.8305 90.1273 25.2301 89.2709 25.2301C87.9863 25.2301 87.2155 24.545 87.2155 23.4317C87.2155 21.6332 89.014 20.7483 91.6117 20.3201V24.1168ZM105.482 19.6921L110.478 13.3833H107.052L103.855 17.6082L100.801 13.3833H96.6899V13.6688C97.6034 13.9542 98.888 15.667 99.8014 16.9231L101.942 19.8063L96.3188 27H99.6587L103.598 21.8902L107.309 27H110.906L105.482 19.6921ZM137.536 17.2371H130.257V19.5208H134.453V24.4879C133.197 24.8876 131.827 25.0303 130.342 25.0303C125.718 25.0303 122.578 21.5191 122.578 17.0373C122.578 12.584 125.718 9.04422 130.342 9.04422C132.94 9.04422 135.024 9.75788 136.879 11.2709V8.18782C135.481 7.27433 133.368 6.61776 130.371 6.61776C123.919 6.61776 119.238 11.0425 119.238 17.0373C119.238 23.032 123.919 27.4853 130.371 27.4853C133.368 27.4853 135.88 26.8287 137.536 25.8867V17.2371ZM150.671 13.9542C150.071 13.4118 149.272 13.0693 148.273 13.0693C148.216 13.0693 148.159 13.0693 148.073 13.0978C147.045 13.1264 145.333 13.7544 144.333 16.0381L144.305 13.3833H140.308V13.6688C141.365 14.0113 141.564 14.9534 141.564 16.4378V27H144.419V20.6627C144.419 17.3227 145.789 15.8668 147.359 15.6956C147.531 15.667 147.673 15.667 147.816 15.667C148.644 15.667 149.358 15.9525 149.9 16.4378L150.671 13.9542ZM166.295 20.2059C166.295 16.0381 163.212 13.0407 158.987 13.0407C154.819 13.0407 151.679 16.1238 151.679 20.2059C151.679 24.2595 154.791 27.3426 158.93 27.3426C163.783 27.3426 166.295 23.7457 166.295 20.2059ZM163.355 20.2059C163.355 23.0035 161.528 25.0588 158.987 25.0588C156.446 25.0588 154.619 23.0035 154.619 20.2059C154.619 17.3798 156.446 15.3245 158.987 15.3245C161.528 15.3245 163.355 17.3798 163.355 20.2059ZM181.011 27C181.011 27 180.783 26.1436 180.783 24.0312V13.3833H177.928V22.7751C177.215 24.0597 175.844 25.0874 174.446 25.0874C172.704 25.0874 171.962 23.9455 171.962 22.1471V13.3833H167.851V13.6688C168.908 14.0113 169.136 14.9534 169.136 16.4378V22.1471C169.136 26.1721 171.305 27.3426 173.589 27.3426C175.33 27.3426 177.015 26.6289 178.071 25.2016L178.128 27H181.011ZM197.984 20.0632C198.012 16.0381 195.9 13.0407 192.046 13.0407H191.903C190.561 13.0407 188.934 13.6973 187.964 14.8106L187.907 13.3833H183.853V13.6688C184.909 14.0113 185.138 14.9534 185.138 16.4378V33.6228H187.964V26.372C188.934 27.0571 190.076 27.314 191.161 27.314C195.814 27.314 197.955 23.7457 197.984 20.0632ZM195.015 20.2059C195.015 23.1748 193.473 25.0874 190.79 25.1159C189.819 25.1159 188.792 24.8019 187.964 24.0312V16.9802C188.734 15.8383 189.933 15.3245 191.189 15.3245C193.702 15.3245 195.015 17.2371 195.015 20.0917V20.2059Z\" fill=\"#161616\"></path>\n",
       "</svg>\n",
       "</div></a><div class=\"header-links header-links-mobile u--not_desktop-flex\"><a class=\"u--normalize-link investor_login_link\" href=\"https://dynamo.dynamosoftware.com/tenant/dynamo.netagesolutions.com/Audax/Investors\">Investor Login</a><button class=\"u--normalize-button js-nav-trigger\"><svg fill=\"none\" height=\"21\" viewbox=\"0 0 30 21\" width=\"30\" xmlns=\"http://www.w3.org/2000/svg\">\n",
       "<line stroke=\"#161616\" x2=\"30\" y1=\"0.5\" y2=\"0.5\"></line>\n",
       "<line stroke=\"#161616\" x2=\"30\" y1=\"20.5\" y2=\"20.5\"></line>\n",
       "<line stroke=\"#161616\" x2=\"30\" y1=\"10.5\" y2=\"10.5\"></line>\n",
       "</svg>\n",
       "</button></div><div class=\"header-links u--desktop_only\"><ul class=\"u--normalize-list\"><li><a class=\"u--normalize-link\" href=\"/\">Overview</a></li><li><a class=\"u--normalize-link\" href=\"/investors\">Investors</a></li><li><a class=\"u--normalize-link\" href=\"/citizenship\">Citizenship</a></li><li><a class=\"u--normalize-link nav-selected\" href=\"/leadership\">Team</a></li><li><a class=\"u--normalize-link\" href=\"/contact\">Contact</a></li><li><a class=\"u--normalize-link\" href=\"https://dynamo.dynamosoftware.com/tenant/dynamo.netagesolutions.com/Audax/Investors\" target=\"_blank\">Investor Login</a></li></ul></div></div></div></div><div class=\"navigation-mobile\"><button class=\"u--normalize-button js-nav-trigger\"><svg fill=\"none\" height=\"24\" viewbox=\"0 0 25 24\" width=\"25\" xmlns=\"http://www.w3.org/2000/svg\">\n",
       "<line stroke=\"white\" x1=\"1.97855\" x2=\"24.3536\" y1=\"0.903649\" y2=\"23.2786\"></line>\n",
       "<line stroke=\"white\" transform=\"matrix(-0.707107 0.707107 0.707107 0.707107 24 1.2572)\" x2=\"31.643\" y1=\"-0.5\" y2=\"-0.5\"></line>\n",
       "</svg>\n",
       "</button><ul class=\"u--normalize-list\"><li class=\"nav_item\"><a class=\"u--normalize-link\" href=\"/\">Overview</a></li><li class=\"nav_item\"><a class=\"u--normalize-link\" href=\"/investors\">Investors</a></li><li class=\"nav_item\"><a class=\"u--normalize-link\" href=\"/citizenship\">Citizenship</a></li><li class=\"nav_item\"><a class=\"u--normalize-link nav-selected\" href=\"/leadership\">Team</a></li><li class=\"nav_item\"><a class=\"u--normalize-link\" href=\"/contact\">Contact</a></li><li class=\"nav_item\"><a class=\"u--normalize-link\" href=\"https://dynamo.dynamosoftware.com/tenant/dynamo.netagesolutions.com/Audax/Investors\" target=\"_blank\">Investor Login</a></li></ul></div><div class=\"wrapper\"><div class=\"container\"><div class=\"two_col-one_third_two_thirds component_gap--small b--top intro\"><div class=\"one_third component_gap--xxsmall\" data-aos=\"fade\"><h3 class=\"t--body_head\">Leadership</h3></div><div class=\"two_thirds component_gap--medium\" data-aos=\"fade\"><div class=\"t--intro\">Our leadership team of Managing Directors and Co-CEOs have worked together, on average, for over fifteen years.</div></div></div></div><div class=\"container\"><div class=\"four_col-one_quarter b--top component_gap--medium\"><div class=\"one_half component_gap--xsmall\" data-aos=\"fade\"><label class=\"t--input_label\">Search</label><input autocomplete=\"off\" class=\"input_search\" id=\"search\" placeholder=\"Search Name\" type=\"text\"/></div><div class=\"one_quarter component_gap--xsmall\" data-aos=\"fade\"><label class=\"t--input_label\">Team</label><select class=\"js-select\" data-placeholder=\"All\" id=\"business_unit\"><option value=\"\">All</option><option value=\"equity\">Audax Private Equity</option><option value=\"debt\">Audax Private Debt</option></select></div><div class=\"one_quarter component_gap--xsmall\" data-aos=\"fade\"><label class=\"t--input_label\">Function</label><select class=\"js-select\" data-placeholder=\"All\" id=\"function\"><option value=\"\">All</option><option value=\"12\">Co-CEOs</option><option value=\"39\">Managing Director</option><option value=\"10\">Investor Relations</option><option value=\"11\">Group Resources</option></select></div></div></div><div id=\"js-filter_results\"></div></div><section class=\"footer container\" data-aos=\"fade\"><div class=\"logo\"><svg fill=\"none\" height=\"36\" viewbox=\"0 0 199 36\" width=\"199\" xmlns=\"http://www.w3.org/2000/svg\">\n",
       "<path d=\"M1.03142 26.2602L20.1326 25.3676L19.4979 26.4586L6.86294 4.58044H8.15223L0.119011 16.7195L0 16.6402L6.86294 3.82671L7.47783 2.67627L8.15223 3.82671L20.7673 25.7247L21.4021 26.8553L20.1525 26.8156L1.03142 26.4387V26.2602Z\" fill=\"#C8B37B\"></path>\n",
       "<path class=\"logo-text\" d=\"M42.3798 7.04596H40.1247L31.6178 27H34.3583L36.9274 20.9767H45.3487L48.0321 27H51.2293L42.3798 7.04596ZM37.9266 18.693L40.1532 13.2406C40.5814 12.2129 40.8669 11.3279 40.9811 10.8427C41.0952 11.2994 41.4663 12.2414 41.8945 13.2406L44.2925 18.693H37.9266ZM65.0688 27C65.0688 27 64.8404 26.1436 64.8404 24.0312V13.3833H61.9857V22.7751C61.2721 24.0597 59.9018 25.0874 58.5031 25.0874C56.7617 25.0874 56.0195 23.9455 56.0195 22.1471V13.3833H51.9088V13.6688C52.965 14.0113 53.1934 14.9534 53.1934 16.4378V22.1471C53.1934 26.1721 55.3629 27.3426 57.6467 27.3426C59.388 27.3426 61.0722 26.6289 62.1285 25.2016L62.1856 27H65.0688ZM81.099 27C81.099 27 80.8421 26.1436 80.8421 24.0597V7.04596H76.7314V7.33143C77.7876 7.67398 77.9874 8.61602 77.9874 10.1004V14.0399C77.1881 13.3833 76.0748 13.0407 74.8473 13.0407H74.7331C70.9364 13.0407 67.7678 15.8954 67.7678 20.2059C67.7678 24.6021 70.2513 27.3426 73.9624 27.3426C74.048 27.3426 74.1336 27.3426 74.2193 27.3426C75.6181 27.2855 77.3308 26.6003 78.1016 25.4299L78.2158 27H81.099ZM77.9874 23.2033C77.3879 24.3452 76.1319 25.0874 74.7902 25.0874H74.676C72.3352 25.0874 70.7366 23.2319 70.7366 20.2059C70.7366 17.2656 72.5065 15.3245 74.9329 15.3245C76.1319 15.3245 77.2167 15.7241 77.9874 16.5234V23.2033ZM96.1792 25.0874C95.8366 25.2872 95.5511 25.3443 95.2942 25.3443C95.18 25.3443 95.0944 25.3443 95.0373 25.3158C94.6947 25.2587 94.4664 24.9446 94.4664 24.4308V17.5511C94.4664 14.4681 92.3825 13.0693 89.642 13.0693C88.0434 13.0693 86.1308 13.6973 85.1031 14.7535V17.2085C86.302 15.8668 87.7008 15.3816 89.1567 15.3816C90.7839 15.3816 91.6117 16.3236 91.6117 18.0078V18.6644C90.6411 18.8071 89.2709 19.1212 88.3003 19.4352C86.5019 20.0346 84.3894 21.205 84.3894 23.7742V23.9455C84.3894 26.0009 85.9595 27.2855 87.9292 27.2855C89.1567 27.2855 90.7553 26.8287 91.7259 25.744C91.8972 26.8002 92.6394 27.2855 93.8098 27.2855C94.6091 27.2855 95.4369 27.1427 96.1792 26.7431V25.0874ZM91.6117 24.1168C91.0122 24.8305 90.1273 25.2301 89.2709 25.2301C87.9863 25.2301 87.2155 24.545 87.2155 23.4317C87.2155 21.6332 89.014 20.7483 91.6117 20.3201V24.1168ZM105.482 19.6921L110.478 13.3833H107.052L103.855 17.6082L100.801 13.3833H96.6899V13.6688C97.6034 13.9542 98.888 15.667 99.8014 16.9231L101.942 19.8063L96.3188 27H99.6587L103.598 21.8902L107.309 27H110.906L105.482 19.6921ZM137.536 17.2371H130.257V19.5208H134.453V24.4879C133.197 24.8876 131.827 25.0303 130.342 25.0303C125.718 25.0303 122.578 21.5191 122.578 17.0373C122.578 12.584 125.718 9.04422 130.342 9.04422C132.94 9.04422 135.024 9.75788 136.879 11.2709V8.18782C135.481 7.27433 133.368 6.61776 130.371 6.61776C123.919 6.61776 119.238 11.0425 119.238 17.0373C119.238 23.032 123.919 27.4853 130.371 27.4853C133.368 27.4853 135.88 26.8287 137.536 25.8867V17.2371ZM150.671 13.9542C150.071 13.4118 149.272 13.0693 148.273 13.0693C148.216 13.0693 148.159 13.0693 148.073 13.0978C147.045 13.1264 145.333 13.7544 144.333 16.0381L144.305 13.3833H140.308V13.6688C141.365 14.0113 141.564 14.9534 141.564 16.4378V27H144.419V20.6627C144.419 17.3227 145.789 15.8668 147.359 15.6956C147.531 15.667 147.673 15.667 147.816 15.667C148.644 15.667 149.358 15.9525 149.9 16.4378L150.671 13.9542ZM166.295 20.2059C166.295 16.0381 163.212 13.0407 158.987 13.0407C154.819 13.0407 151.679 16.1238 151.679 20.2059C151.679 24.2595 154.791 27.3426 158.93 27.3426C163.783 27.3426 166.295 23.7457 166.295 20.2059ZM163.355 20.2059C163.355 23.0035 161.528 25.0588 158.987 25.0588C156.446 25.0588 154.619 23.0035 154.619 20.2059C154.619 17.3798 156.446 15.3245 158.987 15.3245C161.528 15.3245 163.355 17.3798 163.355 20.2059ZM181.011 27C181.011 27 180.783 26.1436 180.783 24.0312V13.3833H177.928V22.7751C177.215 24.0597 175.844 25.0874 174.446 25.0874C172.704 25.0874 171.962 23.9455 171.962 22.1471V13.3833H167.851V13.6688C168.908 14.0113 169.136 14.9534 169.136 16.4378V22.1471C169.136 26.1721 171.305 27.3426 173.589 27.3426C175.33 27.3426 177.015 26.6289 178.071 25.2016L178.128 27H181.011ZM197.984 20.0632C198.012 16.0381 195.9 13.0407 192.046 13.0407H191.903C190.561 13.0407 188.934 13.6973 187.964 14.8106L187.907 13.3833H183.853V13.6688C184.909 14.0113 185.138 14.9534 185.138 16.4378V33.6228H187.964V26.372C188.934 27.0571 190.076 27.314 191.161 27.314C195.814 27.314 197.955 23.7457 197.984 20.0632ZM195.015 20.2059C195.015 23.1748 193.473 25.0874 190.79 25.1159C189.819 25.1159 188.792 24.8019 187.964 24.0312V16.9802C188.734 15.8383 189.933 15.3245 191.189 15.3245C193.702 15.3245 195.015 17.2371 195.015 20.0917V20.2059Z\" fill=\"#161616\"></path>\n",
       "</svg>\n",
       "</div><div class=\"links\"><div class=\"footer_links\"><ul class=\"u--normalize-list\"><li><a class=\"u--normalize-link\" href=\"https://www.audaxprivateequity.com\">Audax Private Equity</a></li><li><a class=\"u--normalize-link\" href=\"https://www.audaxprivatedebt.com\">Audax Private Debt</a></li><li><a class=\"u--normalize-link\" href=\"https://dynamo.dynamosoftware.com/tenant/dynamo.netagesolutions.com/Audax/Investors\" target=\"_blank\">Investor Login</a></li></ul><ul class=\"u--normalize-list\"><li><a class=\"u--normalize-link\" href=\"/sitemap\">Sitemap</a></li><li><a class=\"u--normalize-link\" href=\"/privacy-policy\">Privacy Policy</a></li><li><a class=\"u--normalize-link\" href=\"/terms-of-use\">Terms of Use</a></li></ul></div><div class=\"copyright\"><div>© 2021 Audax Management Company, LLC.</div><div><span class=\"u--no-wrap\">All rights reserved. <a class=\"u--normalize-link secret-link\" href=\"https://www.wearefine.com/\" rel=\"noopener\" target=\"_blank\">a FINE site.</a></span></div></div></div></section><script src=\"/assets/application-65880b589afded8d6fcb35e5c242d14d7c26bc3b45b1cd760e41f1bbc52dfc0c.js\"></script></body></html>>"
      ]
     },
     "execution_count": 8,
     "metadata": {},
     "output_type": "execute_result"
    }
   ],
   "source": [
    "BeautifulSoup(r.content, 'html.parser').prettify"
   ]
  },
  {
   "cell_type": "code",
   "execution_count": 10,
   "metadata": {},
   "outputs": [],
   "source": [
    "bios = BeautifulSoup(r.content, 'html.parser')"
   ]
  },
  {
   "cell_type": "code",
   "execution_count": 13,
   "metadata": {},
   "outputs": [],
   "source": [
    "names = []\n",
    "for n in bios.find_all('div', class_ = 'bio_image t--body one_quarter component_gap--medium'):\n",
    "    names.append({\"name\": n.find('h3').text,\n",
    "                  \"position\": n.find('h4').text})"
   ]
  },
  {
   "cell_type": "markdown",
   "metadata": {},
   "source": []
  },
  {
   "cell_type": "code",
   "execution_count": null,
   "metadata": {},
   "outputs": [],
   "source": []
  }
 ],
 "metadata": {
  "kernelspec": {
   "display_name": "Python 3",
   "language": "python",
   "name": "python3"
  },
  "language_info": {
   "codemirror_mode": {
    "name": "ipython",
    "version": 3
   },
   "file_extension": ".py",
   "mimetype": "text/x-python",
   "name": "python",
   "nbconvert_exporter": "python",
   "pygments_lexer": "ipython3",
   "version": "3.6.6"
  }
 },
 "nbformat": 4,
 "nbformat_minor": 2
}
